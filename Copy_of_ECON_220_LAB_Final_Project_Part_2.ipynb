{
  "nbformat": 4,
  "nbformat_minor": 0,
  "metadata": {
    "colab": {
      "provenance": [],
      "include_colab_link": true
    },
    "kernelspec": {
      "name": "python3",
      "display_name": "Python 3"
    },
    "language_info": {
      "name": "python"
    }
  },
  "cells": [
    {
      "cell_type": "markdown",
      "metadata": {
        "id": "view-in-github",
        "colab_type": "text"
      },
      "source": [
        "<a href=\"https://colab.research.google.com/github/Daniel2814/qtm151/blob/main/Copy_of_ECON_220_LAB_Final_Project_Part_2.ipynb\" target=\"_parent\"><img src=\"https://colab.research.google.com/assets/colab-badge.svg\" alt=\"Open In Colab\"/></a>"
      ]
    },
    {
      "cell_type": "markdown",
      "source": [
        "**Disclaimer: **\n",
        "\n",
        "The data for the variables we chose is categorical; we can provide no significant mean or deviation. Instead, we have decided to give proportions and other summary statistics that show the frequencies and probabilities of having a certain amount of education and having a specific marital outcome. We look at the relationship between demographics and our two chosen variables.\n"
      ],
      "metadata": {
        "id": "r_0YG6-iWlJC"
      }
    },
    {
      "cell_type": "markdown",
      "source": [
        "**Introduction:**\n",
        "\n",
        "\n",
        "**Motivation: include some numbers/statistics (from news, research articles) (10 pts)**\n",
        "\n",
        "Should we even be getting married? As college students, it feels challenging to juggle classes, extracurriculars, and think about the future simultaneously. Finding and maintaining a relationship seems difficult, and questions about the feasibility of marriage come into play. We decided to investigate whether educational attainment was correlated to marriage rates and, if so, when people were getting married and why. Is there a signaling value that a diploma has in a marriage that other factors may not? The Pew Research Center pulled data from the National Center for Health Statistics and found that in the period from 2006 to 2010, 78% of women were expected to have marriages that lasted at least 20 years. Still, for women who had only a high school education or less, only 46% of women had a marriage that would last that long. There also seems to be a correlation between a degree and marriage in general; of those with a college degree, 65% would be married at a certain point in life as opposed to 53% of those without a college degree. While the actual reasons may not be proven, there is a consensus that adults with college degrees and who are married tend to be more financially secure, which may contribute to marital status. The Bureau of Labor Statistics has similar data that shows those with a bachelor's degree or higher tend to have more successful marriages overall and fewer divorces overall. This led us to wonder what about getting a degree specifically seems to make marriages more robust. Our group pulled the IPUMS data and examined when people were getting married and how often; we also looked at whether people had degrees by the time they got married.\n"
      ],
      "metadata": {
        "id": "u6hL9fC3WrcO"
      }
    },
    {
      "cell_type": "markdown",
      "source": [
        "\n",
        "\n",
        "**Importance: argue why your question is important (10 pts)**\n",
        "\n",
        "If there is a correlation between successful marriages and education rates, it can help individuals understand the importance of education and setting a foundation in their own lives before getting married. This research can help individuals make informed decisions about how they want to plan their futures. Additionally, this would open the door for social mobility, as shared values and ideas help couples figure out who they are. This can encourage them to grow together and take on new opportunities. Lastly, if there is a correlation, policymakers who want to encourage joint-income households may benefit from providing educational access for individuals. The signaling value of a diploma has many indirect benefits, and by showing some examples of these benefits, it encourages a greater emphasis on education.\n",
        "\n",
        "\n",
        "\n",
        "\n"
      ],
      "metadata": {
        "id": "IEVfiuw7Yi2l"
      }
    },
    {
      "cell_type": "markdown",
      "source": [
        "**Literature review:**\n",
        "\n",
        "8 articles from peer-reviewed journals\n",
        "\n",
        "Provide a summary of each article and the findings (20 pts)"
      ],
      "metadata": {
        "id": "7gzClbxaYqp8"
      }
    },
    {
      "cell_type": "markdown",
      "source": [
        "\n",
        "\n",
        "Literature review 1:\n",
        "\n",
        "This research article looked at the duration of marriage and how education may affect this. What was unique about this article was the fact that it didn’t examine if marriages ended in divorce or not, but rather how long these marriages actually were. Much of other research looks at if a marriage is successful, but not how long. The conclusion of this article was that while younger less educated individuals have higher divorce rates, the actual number of years they are married is higher, and while part of this is due to them getting married much younger- it seems that overall there tends to be a longer rate of success for said marriages, Because this research conflicts with our hypothesis of a positive correlation, the methodology and data were important to examine to see what about marriage and education in this study has an inverse relationship. The study shows that age itself plays a big factor, and while none of the variables of education and marriage seem to be related, age may be one of the few indicators that influences both factors (if any). This helps us because in our data we now plan on looking at age as one of our sub variables to look for any trends.\n",
        "\n",
        "Maneker, Jerry S., and Robert P. Rankin. “Education, Age at Marriage, and Marital Duration: Is There a Relationship?” Journal of Marriage and Family, vol. 47, no. 3, 1985, pp. 675–83. JSTOR, https://doi.org/10.2307/352268. Accessed 4 Nov. 2024.\n",
        "\n",
        "\n",
        "Literature review 2:\n",
        "The article Marriage Patterns and Educational Level by Paul C. Glick and Hugh Carter, published in the American Sociological Review in 1958, investigates how educational attainment influences marriage patterns. The study, based on data from the U.S. Census and a survey by the National Office of Vital Statistics, examines trends in marriage rates, age at marriage, marriage stability, and the likelihood of remarriage across different educational levels. This research highlights that marriage patterns, such as timing and stability, are not solely a function of personal choice but are also shaped by educational achievement, which often correlates with economic and social stability.\n",
        "The authors note a clear relationship between educational attainment and marriage outcomes. They find that individuals with higher levels of education, particularly those who attended college, tend to marry later but have more stable marriages. This stability may be linked to higher economic status and shared cultural values, which are more common among those with greater educational backgrounds.\n",
        "For our research, we are getting data from the same sources - and we see that while education might not be a direct influence of marriage, it shapes other factors of our lives that are related to marriage, this supports our hypotheses and helps us understand what we should look for in our findings.\n",
        "Glick, Paul C., and Hugh Carter. “Marriage Patterns and Educational Level.” American Sociological Review, vol. 23, no. 3, 1958, pp. 294–300. JSTOR, https://doi.org/10.2307/2089243. Accessed 3 Nov. 2024.\n",
        "\n",
        "Literature review 3:\n",
        "Research has shown a clear inverse relationship between educational attainment and early marriage rates, particularly among young women. The Education Policy Data Center highlights that young women who marry before the age of 18 are significantly more likely to drop out of school compared to their unmarried peers. This trend is particularly pronounced in low-income communities, where early marriage rates are higher among less educated women.\n",
        "Data from various countries in sub-Saharan Africa indicate that educational achievement plays a crucial role in delaying marriage. Specifically, over 30% of women without any education marry early, while this figure drops below 10% for those who complete at least eight years of schooling. This correlation suggests that education empowers young women to postpone marriage, thereby enhancing their opportunities for personal and professional development.\n",
        "Furthermore, educational attainment contributes to greater socioeconomic stability, which is essential for successful marriages. This understanding is critical for informing policies aimed at reducing early marriage and promoting educational access, as the benefits of education extend beyond individual success to societal well-being.\n",
        "\n",
        "“Early Marriage and Education.” Education Policy Data Center, 20 Mar. 2014, www.epdc.org/node/5859.html. Accessed 3 Nov. 2024.\n",
        "\n",
        "Literature review 4:\n",
        "\n",
        "This study investigated how relationship satisfaction evolves over a person’s lifetime, specifically in relation to the influence of education. The results indicated that higher levels of education are more often associated with greater relationship satisfaction. One explanation of this trend is that individuals with more education tend to have better access to resources, finances, and communication skills, which are all super important in maintaining healthy relationships. Additionally, the study suggests that an education builds critical thinking and emotional intelligence, which helps individuals navigate issues within a relationship much more successfully. The findings suggest that education doesn’t just influence personal success - it also plays a significant role in improving the quality of our relationships, highlighting how important educational achievements can be for our overall happiness and well-being.\n",
        "\n",
        "Mason, Ashley E., et al. “Development of Relationship Satisfaction Across the Life Span: A Systematic Review and Meta-Analysis.” Psychological Bulletin, vol. 146, no. 12, 2020, pp. 1119–1143. American Psychological Association, https://www.apa.org/pubs/journals/releases/bul-bul0000342.pdf.\n",
        "\n",
        "\n",
        "Literature review 5:\n",
        "Research examining the relationship between education and marital status consistently highlights how higher educational attainment often influences marital timing, stability, and overall marriage rates. Studies, including The Changing Relationship between Education and Marriage in the United States, 1940–2000, reveal that individuals with more education are likely to delay marriage but experience lower divorce rates compared to those with less education. This delay is often attributed to the prioritization of career and financial stability before committing to marriage. This may explain a possible rise in average age of married couples and decrease in the average marriage duration. Additionally, educational attainment is positively correlated with marital stability, potentially due to improved communication skills and resource access among highly educated partners, reducing marital stressors linked to financial instability. Other research supports that educational disparity between partners can influence marital satisfaction and stability, with couples of similar education levels often reporting greater relationship satisfaction. This review underlines the complex role of education in marriage, highlighting how educational achievements shape marriage timing, quality, and durability, reflecting broader societal shifts toward prioritizing education and economic security within marital decisions.\n",
        "Torr, Berna M. \"The Changing Relationship between Education and Marriage in the United States, 1940–2000.\" Journal of Family History, vol. 36, no. 4, 2011, pp. 483–503. PubMed Central, https://pmc.ncbi.nlm.nih.gov/articles/PMC4224031/. Accessed 3 Nov. 2024.\n",
        "\n",
        "\n",
        "Literature review 6:\n",
        "Recent studies emphasize that educational attainment plays a significant role in marital patterns and success rates, especially among women. Data from the Pew Research Center highlights that college-educated women have a greater likelihood of experiencing lasting marriages. Specifically, 78% of college-educated women married between 2006 and 2010 are expected to stay married for at least 20 years, compared to just 46% of those with a high school education or less. This disparity points to a correlation between education and marital stability, suggesting that economic and personal stability gained through education positively influences marriage durability. Understanding this correlation is essential for individuals planning their futures, as it highlights how education can serve as a foundational step before marriage. Such research offers insight for policymakers, who may advocate for greater educational access to promote financial security and stability in family structures.\n",
        "Wang, Wendy, and Kim Parker. \"Education and Marriage: The Relationship Between Education and Marital Stability.\" Pew Research Center, 4 Dec. 2015, https://www.pewresearch.org/short-reads/2015/12/04/education-and-marriage/. Accessed 3 Nov. 2024.\n",
        "\n",
        "Literature review 7:\n",
        "This source further emphasizes the changing attitudes towards marriage held by college-educated women, as examined by other sources. Historically, women with more education were the least likely to marry and have children, as they often prioritized career advancement and personal development over traditional family roles. However, data from earlier eras also showed that women were more likely to look to marriage for financial security, as limited career options and lower wages often made financial independence challenging. In light of this novel attitude towards relationships from college-educated women, the proportion and success rates of marriage are especially vital for research.\n",
        "Adam Isen and Betsey Stevenson. Marriage and Divorce: Changes and Their Driving Forces. National Bureau of Economic Research, Working Paper No. 15725, Feb. 2010, https://www.nber.org/system/files/working_papers/w15725/w15725.pdf.\n",
        "\n",
        "\n",
        "\n",
        "\n",
        "\n",
        "Literature review 8:\n",
        "Educational attainment has long been correlated with increased individual wages and GDP. This article from the American Action Forum further cements this connection by analyzing the 2018 Current Population Survey from the National Bureau of Economic Research (NBER). This data is leveraged to conclude the economic benefits of educational attainment, including its effects on employment, real wages, and aggregate GDP growth. They first concluded that those with bachelor’s degrees are 12.96 percent more likely to be employed than those with, at most, a high school diploma or GED. They then showed that a high school dropout makes about 35.18 percent less than a worker with a high school diploma or GED. Further aggregating their conclusions, they illustrated that if every state increased the growth rate at which people receive bachelor’s degrees by one percentage point for the past decade, the growth rate would have increased from about 2.11 percent to about 2.19 percent, translating to about a $103.5 billion increase in real GDP. This relationship posits another hypothesis for the potential relationship between educational attainment and marital status. As financial stability increases, this could help facilitate long-term relationships and make those relationships stronger and more\n",
        "American Action Forum. Economic Benefits of Educational Attainment. American Action Forum, https://www.americanactionforum.org/project/economic-benefits-educational-attainment/. Accessed 3 Nov. 2024."
      ],
      "metadata": {
        "id": "NiTsXKPUXGs-"
      }
    },
    {
      "cell_type": "markdown",
      "source": [
        "**Data:**\n",
        "\n",
        "Describe data source in your own words (2 pts)\n",
        "\n",
        "\n",
        "Describe the variables in your own words and any sample restriction that you apply (8 pts)"
      ],
      "metadata": {
        "id": "NcFh-ka5YozM"
      }
    },
    {
      "cell_type": "markdown",
      "source": [
        "The data comes from the IPUMS organization of the US Census, which is data collected from individuals living in the United States. It has integrated data, which means questions regarding marriage, education, race, age, and income can also be cross-broken down. This allows us to find the income of someone in a certain age group. This cross-section of data is useful for finding trends and conducting analysis.\n",
        "\n",
        "The two variables we used are EDUC and MARST. EDUC shows educational attainment, including years up until the end of grade school and then how many years of college/higher degree of education. The data is by years and not by degree because there is an indication that the actual knowledge learned is impactful and not solely the signaling value of a diploma. To see if the years matter as much as the diploma, the variables \"Master's degree\", \"Professional degree\", and \"Doctoral degree\" are included after 1990 to see if a diploma or the actual years are more important. We limit the data to after 1980 as we want to look at a time frame where both men and women have easy access to attaining higher education. MARST includes marital status and whether a person is married, divorced, never married, widowed, and if the partners are together, whether they are actively present in each other's lives (e.g., married but living apart). Through this, we can examine if there is a high amount of divorce in individuals with higher rates of education.\n"
      ],
      "metadata": {
        "id": "9Xip0iHrXTDe"
      }
    },
    {
      "cell_type": "markdown",
      "source": [
        "Provide a summary statistics table of your sample:\n",
        "Besides your two main variables, also include three demographic variables: age, gender, and race (10 pts)\n",
        "Statistics to display for each of the variables: mean, standard deviation, min, max, count (10 pts)"
      ],
      "metadata": {
        "id": "9Cj10FozDUzl"
      }
    },
    {
      "cell_type": "code",
      "execution_count": null,
      "metadata": {
        "id": "nA2TxY3JDOOO",
        "colab": {
          "base_uri": "https://localhost:8080/",
          "height": 226
        },
        "outputId": "78dc7ef3-17dd-43e8-9a67-443080a871ec"
      },
      "outputs": [
        {
          "output_type": "execute_result",
          "data": {
            "text/plain": [
              "   YEAR  SAMPLE  SERIAL       CBSERIAL   HHWT        CLUSTER  STRATA  GQ  \\\n",
              "0  2020  202001       1  2020010000060   53.0  2020000000011  140001   3   \n",
              "1  2020  202001       2  2020010000084   39.0  2020000000021  130101   4   \n",
              "2  2020  202001       3  2020010000128   17.0  2020000000031  200001   4   \n",
              "3  2020  202001       4  2020010000189   74.0  2020000000041  120001   3   \n",
              "4  2020  202001       5  2020010000207  188.0  2020000000051   90001   4   \n",
              "\n",
              "   PERNUM  PERWT  SEX  AGE  MARST  RACE  RACED  EDUC  EDUCD  \n",
              "0       1   53.0    1   68      2     1    100     6     63  \n",
              "1       1   39.0    2   18      6     2    200     6     65  \n",
              "2       1   17.0    2   35      6     1    100     6     63  \n",
              "3       1   74.0    2   46      2     8    818     6     65  \n",
              "4       1  188.0    2   79      6     1    100    11    114  "
            ],
            "text/html": [
              "\n",
              "  <div id=\"df-6968b452-d122-43e0-bd67-6469125eda98\" class=\"colab-df-container\">\n",
              "    <div>\n",
              "<style scoped>\n",
              "    .dataframe tbody tr th:only-of-type {\n",
              "        vertical-align: middle;\n",
              "    }\n",
              "\n",
              "    .dataframe tbody tr th {\n",
              "        vertical-align: top;\n",
              "    }\n",
              "\n",
              "    .dataframe thead th {\n",
              "        text-align: right;\n",
              "    }\n",
              "</style>\n",
              "<table border=\"1\" class=\"dataframe\">\n",
              "  <thead>\n",
              "    <tr style=\"text-align: right;\">\n",
              "      <th></th>\n",
              "      <th>YEAR</th>\n",
              "      <th>SAMPLE</th>\n",
              "      <th>SERIAL</th>\n",
              "      <th>CBSERIAL</th>\n",
              "      <th>HHWT</th>\n",
              "      <th>CLUSTER</th>\n",
              "      <th>STRATA</th>\n",
              "      <th>GQ</th>\n",
              "      <th>PERNUM</th>\n",
              "      <th>PERWT</th>\n",
              "      <th>SEX</th>\n",
              "      <th>AGE</th>\n",
              "      <th>MARST</th>\n",
              "      <th>RACE</th>\n",
              "      <th>RACED</th>\n",
              "      <th>EDUC</th>\n",
              "      <th>EDUCD</th>\n",
              "    </tr>\n",
              "  </thead>\n",
              "  <tbody>\n",
              "    <tr>\n",
              "      <th>0</th>\n",
              "      <td>2020</td>\n",
              "      <td>202001</td>\n",
              "      <td>1</td>\n",
              "      <td>2020010000060</td>\n",
              "      <td>53.0</td>\n",
              "      <td>2020000000011</td>\n",
              "      <td>140001</td>\n",
              "      <td>3</td>\n",
              "      <td>1</td>\n",
              "      <td>53.0</td>\n",
              "      <td>1</td>\n",
              "      <td>68</td>\n",
              "      <td>2</td>\n",
              "      <td>1</td>\n",
              "      <td>100</td>\n",
              "      <td>6</td>\n",
              "      <td>63</td>\n",
              "    </tr>\n",
              "    <tr>\n",
              "      <th>1</th>\n",
              "      <td>2020</td>\n",
              "      <td>202001</td>\n",
              "      <td>2</td>\n",
              "      <td>2020010000084</td>\n",
              "      <td>39.0</td>\n",
              "      <td>2020000000021</td>\n",
              "      <td>130101</td>\n",
              "      <td>4</td>\n",
              "      <td>1</td>\n",
              "      <td>39.0</td>\n",
              "      <td>2</td>\n",
              "      <td>18</td>\n",
              "      <td>6</td>\n",
              "      <td>2</td>\n",
              "      <td>200</td>\n",
              "      <td>6</td>\n",
              "      <td>65</td>\n",
              "    </tr>\n",
              "    <tr>\n",
              "      <th>2</th>\n",
              "      <td>2020</td>\n",
              "      <td>202001</td>\n",
              "      <td>3</td>\n",
              "      <td>2020010000128</td>\n",
              "      <td>17.0</td>\n",
              "      <td>2020000000031</td>\n",
              "      <td>200001</td>\n",
              "      <td>4</td>\n",
              "      <td>1</td>\n",
              "      <td>17.0</td>\n",
              "      <td>2</td>\n",
              "      <td>35</td>\n",
              "      <td>6</td>\n",
              "      <td>1</td>\n",
              "      <td>100</td>\n",
              "      <td>6</td>\n",
              "      <td>63</td>\n",
              "    </tr>\n",
              "    <tr>\n",
              "      <th>3</th>\n",
              "      <td>2020</td>\n",
              "      <td>202001</td>\n",
              "      <td>4</td>\n",
              "      <td>2020010000189</td>\n",
              "      <td>74.0</td>\n",
              "      <td>2020000000041</td>\n",
              "      <td>120001</td>\n",
              "      <td>3</td>\n",
              "      <td>1</td>\n",
              "      <td>74.0</td>\n",
              "      <td>2</td>\n",
              "      <td>46</td>\n",
              "      <td>2</td>\n",
              "      <td>8</td>\n",
              "      <td>818</td>\n",
              "      <td>6</td>\n",
              "      <td>65</td>\n",
              "    </tr>\n",
              "    <tr>\n",
              "      <th>4</th>\n",
              "      <td>2020</td>\n",
              "      <td>202001</td>\n",
              "      <td>5</td>\n",
              "      <td>2020010000207</td>\n",
              "      <td>188.0</td>\n",
              "      <td>2020000000051</td>\n",
              "      <td>90001</td>\n",
              "      <td>4</td>\n",
              "      <td>1</td>\n",
              "      <td>188.0</td>\n",
              "      <td>2</td>\n",
              "      <td>79</td>\n",
              "      <td>6</td>\n",
              "      <td>1</td>\n",
              "      <td>100</td>\n",
              "      <td>11</td>\n",
              "      <td>114</td>\n",
              "    </tr>\n",
              "  </tbody>\n",
              "</table>\n",
              "</div>\n",
              "    <div class=\"colab-df-buttons\">\n",
              "\n",
              "  <div class=\"colab-df-container\">\n",
              "    <button class=\"colab-df-convert\" onclick=\"convertToInteractive('df-6968b452-d122-43e0-bd67-6469125eda98')\"\n",
              "            title=\"Convert this dataframe to an interactive table.\"\n",
              "            style=\"display:none;\">\n",
              "\n",
              "  <svg xmlns=\"http://www.w3.org/2000/svg\" height=\"24px\" viewBox=\"0 -960 960 960\">\n",
              "    <path d=\"M120-120v-720h720v720H120Zm60-500h600v-160H180v160Zm220 220h160v-160H400v160Zm0 220h160v-160H400v160ZM180-400h160v-160H180v160Zm440 0h160v-160H620v160ZM180-180h160v-160H180v160Zm440 0h160v-160H620v160Z\"/>\n",
              "  </svg>\n",
              "    </button>\n",
              "\n",
              "  <style>\n",
              "    .colab-df-container {\n",
              "      display:flex;\n",
              "      gap: 12px;\n",
              "    }\n",
              "\n",
              "    .colab-df-convert {\n",
              "      background-color: #E8F0FE;\n",
              "      border: none;\n",
              "      border-radius: 50%;\n",
              "      cursor: pointer;\n",
              "      display: none;\n",
              "      fill: #1967D2;\n",
              "      height: 32px;\n",
              "      padding: 0 0 0 0;\n",
              "      width: 32px;\n",
              "    }\n",
              "\n",
              "    .colab-df-convert:hover {\n",
              "      background-color: #E2EBFA;\n",
              "      box-shadow: 0px 1px 2px rgba(60, 64, 67, 0.3), 0px 1px 3px 1px rgba(60, 64, 67, 0.15);\n",
              "      fill: #174EA6;\n",
              "    }\n",
              "\n",
              "    .colab-df-buttons div {\n",
              "      margin-bottom: 4px;\n",
              "    }\n",
              "\n",
              "    [theme=dark] .colab-df-convert {\n",
              "      background-color: #3B4455;\n",
              "      fill: #D2E3FC;\n",
              "    }\n",
              "\n",
              "    [theme=dark] .colab-df-convert:hover {\n",
              "      background-color: #434B5C;\n",
              "      box-shadow: 0px 1px 3px 1px rgba(0, 0, 0, 0.15);\n",
              "      filter: drop-shadow(0px 1px 2px rgba(0, 0, 0, 0.3));\n",
              "      fill: #FFFFFF;\n",
              "    }\n",
              "  </style>\n",
              "\n",
              "    <script>\n",
              "      const buttonEl =\n",
              "        document.querySelector('#df-6968b452-d122-43e0-bd67-6469125eda98 button.colab-df-convert');\n",
              "      buttonEl.style.display =\n",
              "        google.colab.kernel.accessAllowed ? 'block' : 'none';\n",
              "\n",
              "      async function convertToInteractive(key) {\n",
              "        const element = document.querySelector('#df-6968b452-d122-43e0-bd67-6469125eda98');\n",
              "        const dataTable =\n",
              "          await google.colab.kernel.invokeFunction('convertToInteractive',\n",
              "                                                    [key], {});\n",
              "        if (!dataTable) return;\n",
              "\n",
              "        const docLinkHtml = 'Like what you see? Visit the ' +\n",
              "          '<a target=\"_blank\" href=https://colab.research.google.com/notebooks/data_table.ipynb>data table notebook</a>'\n",
              "          + ' to learn more about interactive tables.';\n",
              "        element.innerHTML = '';\n",
              "        dataTable['output_type'] = 'display_data';\n",
              "        await google.colab.output.renderOutput(dataTable, element);\n",
              "        const docLink = document.createElement('div');\n",
              "        docLink.innerHTML = docLinkHtml;\n",
              "        element.appendChild(docLink);\n",
              "      }\n",
              "    </script>\n",
              "  </div>\n",
              "\n",
              "\n",
              "<div id=\"df-4138c384-f09c-40fa-8bba-4dd705c55db8\">\n",
              "  <button class=\"colab-df-quickchart\" onclick=\"quickchart('df-4138c384-f09c-40fa-8bba-4dd705c55db8')\"\n",
              "            title=\"Suggest charts\"\n",
              "            style=\"display:none;\">\n",
              "\n",
              "<svg xmlns=\"http://www.w3.org/2000/svg\" height=\"24px\"viewBox=\"0 0 24 24\"\n",
              "     width=\"24px\">\n",
              "    <g>\n",
              "        <path d=\"M19 3H5c-1.1 0-2 .9-2 2v14c0 1.1.9 2 2 2h14c1.1 0 2-.9 2-2V5c0-1.1-.9-2-2-2zM9 17H7v-7h2v7zm4 0h-2V7h2v10zm4 0h-2v-4h2v4z\"/>\n",
              "    </g>\n",
              "</svg>\n",
              "  </button>\n",
              "\n",
              "<style>\n",
              "  .colab-df-quickchart {\n",
              "      --bg-color: #E8F0FE;\n",
              "      --fill-color: #1967D2;\n",
              "      --hover-bg-color: #E2EBFA;\n",
              "      --hover-fill-color: #174EA6;\n",
              "      --disabled-fill-color: #AAA;\n",
              "      --disabled-bg-color: #DDD;\n",
              "  }\n",
              "\n",
              "  [theme=dark] .colab-df-quickchart {\n",
              "      --bg-color: #3B4455;\n",
              "      --fill-color: #D2E3FC;\n",
              "      --hover-bg-color: #434B5C;\n",
              "      --hover-fill-color: #FFFFFF;\n",
              "      --disabled-bg-color: #3B4455;\n",
              "      --disabled-fill-color: #666;\n",
              "  }\n",
              "\n",
              "  .colab-df-quickchart {\n",
              "    background-color: var(--bg-color);\n",
              "    border: none;\n",
              "    border-radius: 50%;\n",
              "    cursor: pointer;\n",
              "    display: none;\n",
              "    fill: var(--fill-color);\n",
              "    height: 32px;\n",
              "    padding: 0;\n",
              "    width: 32px;\n",
              "  }\n",
              "\n",
              "  .colab-df-quickchart:hover {\n",
              "    background-color: var(--hover-bg-color);\n",
              "    box-shadow: 0 1px 2px rgba(60, 64, 67, 0.3), 0 1px 3px 1px rgba(60, 64, 67, 0.15);\n",
              "    fill: var(--button-hover-fill-color);\n",
              "  }\n",
              "\n",
              "  .colab-df-quickchart-complete:disabled,\n",
              "  .colab-df-quickchart-complete:disabled:hover {\n",
              "    background-color: var(--disabled-bg-color);\n",
              "    fill: var(--disabled-fill-color);\n",
              "    box-shadow: none;\n",
              "  }\n",
              "\n",
              "  .colab-df-spinner {\n",
              "    border: 2px solid var(--fill-color);\n",
              "    border-color: transparent;\n",
              "    border-bottom-color: var(--fill-color);\n",
              "    animation:\n",
              "      spin 1s steps(1) infinite;\n",
              "  }\n",
              "\n",
              "  @keyframes spin {\n",
              "    0% {\n",
              "      border-color: transparent;\n",
              "      border-bottom-color: var(--fill-color);\n",
              "      border-left-color: var(--fill-color);\n",
              "    }\n",
              "    20% {\n",
              "      border-color: transparent;\n",
              "      border-left-color: var(--fill-color);\n",
              "      border-top-color: var(--fill-color);\n",
              "    }\n",
              "    30% {\n",
              "      border-color: transparent;\n",
              "      border-left-color: var(--fill-color);\n",
              "      border-top-color: var(--fill-color);\n",
              "      border-right-color: var(--fill-color);\n",
              "    }\n",
              "    40% {\n",
              "      border-color: transparent;\n",
              "      border-right-color: var(--fill-color);\n",
              "      border-top-color: var(--fill-color);\n",
              "    }\n",
              "    60% {\n",
              "      border-color: transparent;\n",
              "      border-right-color: var(--fill-color);\n",
              "    }\n",
              "    80% {\n",
              "      border-color: transparent;\n",
              "      border-right-color: var(--fill-color);\n",
              "      border-bottom-color: var(--fill-color);\n",
              "    }\n",
              "    90% {\n",
              "      border-color: transparent;\n",
              "      border-bottom-color: var(--fill-color);\n",
              "    }\n",
              "  }\n",
              "</style>\n",
              "\n",
              "  <script>\n",
              "    async function quickchart(key) {\n",
              "      const quickchartButtonEl =\n",
              "        document.querySelector('#' + key + ' button');\n",
              "      quickchartButtonEl.disabled = true;  // To prevent multiple clicks.\n",
              "      quickchartButtonEl.classList.add('colab-df-spinner');\n",
              "      try {\n",
              "        const charts = await google.colab.kernel.invokeFunction(\n",
              "            'suggestCharts', [key], {});\n",
              "      } catch (error) {\n",
              "        console.error('Error during call to suggestCharts:', error);\n",
              "      }\n",
              "      quickchartButtonEl.classList.remove('colab-df-spinner');\n",
              "      quickchartButtonEl.classList.add('colab-df-quickchart-complete');\n",
              "    }\n",
              "    (() => {\n",
              "      let quickchartButtonEl =\n",
              "        document.querySelector('#df-4138c384-f09c-40fa-8bba-4dd705c55db8 button');\n",
              "      quickchartButtonEl.style.display =\n",
              "        google.colab.kernel.accessAllowed ? 'block' : 'none';\n",
              "    })();\n",
              "  </script>\n",
              "</div>\n",
              "\n",
              "    </div>\n",
              "  </div>\n"
            ],
            "application/vnd.google.colaboratory.intrinsic+json": {
              "type": "dataframe",
              "variable_name": "ipums"
            }
          },
          "metadata": {},
          "execution_count": 2
        }
      ],
      "source": [
        "import pandas as pd\n",
        "import numpy as np\n",
        "import matplotlib.pyplot as plt\n",
        "import seaborn as sns\n",
        "from scipy.stats import ttest_ind\n",
        "from statsmodels.stats.proportion import proportions_ztest\n",
        "\n",
        "ipums = pd.read_csv(\"drive/MyDrive/usa_00004.csv\")\n",
        "ipums.head()"
      ]
    },
    {
      "cell_type": "code",
      "source": [
        "#Examine Data:\n",
        "\n",
        "ipums[\"MARST\"].value_counts()\n",
        "ipums[\"MARST\"].unique()\n",
        "ipums[\"MARST\"].dtypes"
      ],
      "metadata": {
        "colab": {
          "base_uri": "https://localhost:8080/"
        },
        "id": "ZCQZ76tqhakn",
        "outputId": "1aeb808f-9ad7-46e1-fb77-b616124da9e5"
      },
      "execution_count": null,
      "outputs": [
        {
          "output_type": "execute_result",
          "data": {
            "text/plain": [
              "dtype('int64')"
            ]
          },
          "metadata": {},
          "execution_count": 3
        }
      ]
    },
    {
      "cell_type": "code",
      "source": [
        "ipums[\"EDUC\"].value_counts()\n",
        "# ipums[\"EDUC\"].unique()\n",
        "# ipums[\"EDUC\"].dtypes"
      ],
      "metadata": {
        "colab": {
          "base_uri": "https://localhost:8080/",
          "height": 460
        },
        "id": "4usb5KquhsWP",
        "outputId": "8a0d3d25-c11f-44ce-c773-9bec171ed0ed"
      },
      "execution_count": null,
      "outputs": [
        {
          "output_type": "execute_result",
          "data": {
            "text/plain": [
              "EDUC\n",
              "6     785836\n",
              "10    417875\n",
              "7     310736\n",
              "11    269216\n",
              "1     182940\n",
              "8     177710\n",
              "2     165052\n",
              "0     152635\n",
              "5      66527\n",
              "4      59078\n",
              "3      53449\n",
              "Name: count, dtype: int64"
            ],
            "text/html": [
              "<div>\n",
              "<style scoped>\n",
              "    .dataframe tbody tr th:only-of-type {\n",
              "        vertical-align: middle;\n",
              "    }\n",
              "\n",
              "    .dataframe tbody tr th {\n",
              "        vertical-align: top;\n",
              "    }\n",
              "\n",
              "    .dataframe thead th {\n",
              "        text-align: right;\n",
              "    }\n",
              "</style>\n",
              "<table border=\"1\" class=\"dataframe\">\n",
              "  <thead>\n",
              "    <tr style=\"text-align: right;\">\n",
              "      <th></th>\n",
              "      <th>count</th>\n",
              "    </tr>\n",
              "    <tr>\n",
              "      <th>EDUC</th>\n",
              "      <th></th>\n",
              "    </tr>\n",
              "  </thead>\n",
              "  <tbody>\n",
              "    <tr>\n",
              "      <th>6</th>\n",
              "      <td>785836</td>\n",
              "    </tr>\n",
              "    <tr>\n",
              "      <th>10</th>\n",
              "      <td>417875</td>\n",
              "    </tr>\n",
              "    <tr>\n",
              "      <th>7</th>\n",
              "      <td>310736</td>\n",
              "    </tr>\n",
              "    <tr>\n",
              "      <th>11</th>\n",
              "      <td>269216</td>\n",
              "    </tr>\n",
              "    <tr>\n",
              "      <th>1</th>\n",
              "      <td>182940</td>\n",
              "    </tr>\n",
              "    <tr>\n",
              "      <th>8</th>\n",
              "      <td>177710</td>\n",
              "    </tr>\n",
              "    <tr>\n",
              "      <th>2</th>\n",
              "      <td>165052</td>\n",
              "    </tr>\n",
              "    <tr>\n",
              "      <th>0</th>\n",
              "      <td>152635</td>\n",
              "    </tr>\n",
              "    <tr>\n",
              "      <th>5</th>\n",
              "      <td>66527</td>\n",
              "    </tr>\n",
              "    <tr>\n",
              "      <th>4</th>\n",
              "      <td>59078</td>\n",
              "    </tr>\n",
              "    <tr>\n",
              "      <th>3</th>\n",
              "      <td>53449</td>\n",
              "    </tr>\n",
              "  </tbody>\n",
              "</table>\n",
              "</div><br><label><b>dtype:</b> int64</label>"
            ]
          },
          "metadata": {},
          "execution_count": 4
        }
      ]
    },
    {
      "cell_type": "markdown",
      "source": [
        "#Cleaning Data\n",
        "\n",
        "\n",
        "####RACE####\n",
        "\n",
        "\n",
        " 1\tWhite\n",
        " 2\tBlack/African American\n",
        " 3\tAmerican Indian or Alaska Native\n",
        " 4\tChinese\n",
        " 5\tJapanese\n",
        " 6\tOther Asian or Pacific Islander\n",
        " 7\tOther race\n",
        " 8\tTwo major races\n",
        " 9\tThree or more major races\n",
        "\n",
        "#Recode to consolidate categories and save memory"
      ],
      "metadata": {
        "id": "r2NlC2YGcZoo"
      }
    },
    {
      "cell_type": "code",
      "source": [
        "\n",
        "race_recode = {\n",
        "    1: \"White\",\n",
        "    2: \"Black/African American\",\n",
        "    3: \"American Indian or Alaska Native\",\n",
        "    4: \"Asian or Pacific Islander\",  # Consolidated label\n",
        "    5: \"Asian or Pacific Islander\",\n",
        "    6: \"Asian or Pacific Islander\",\n",
        "    7: \"Other race\",\n",
        "    8: \"Two or more major races\",\n",
        "    9: \"Two or more major races\"\n",
        "}\n",
        "\n",
        "\n",
        "\n",
        "ipums[\"race_new\"] = ipums[\"RACE\"].map(race_recode)\n",
        "\n",
        "# Check the unique values in the new column\n",
        "ipums[\"race_new\"].unique()\n",
        "\n"
      ],
      "metadata": {
        "colab": {
          "base_uri": "https://localhost:8080/"
        },
        "id": "vMR8rcOBHIqx",
        "outputId": "7b1f6849-9161-4061-88e2-fad2fcf093c5"
      },
      "execution_count": null,
      "outputs": [
        {
          "output_type": "execute_result",
          "data": {
            "text/plain": [
              "array(['White', 'Black/African American', 'Two or more major races',\n",
              "       'Other race', 'Asian or Pacific Islander',\n",
              "       'American Indian or Alaska Native'], dtype=object)"
            ]
          },
          "metadata": {},
          "execution_count": 5
        }
      ]
    },
    {
      "cell_type": "code",
      "source": [
        "####Gender####\n",
        "#1\tMale\tX\tX\tX\tX\tX\tX\tX\tX\tX\tX\tX\tX\tX\tX\tX\tX\tX\tX\tX\tX\tX\n",
        "# 2\tFemale\n",
        "ipums[\"SEX\"].value_counts()\n",
        "\n",
        "sex_recode = {\n",
        "    1: \"Male\",\n",
        "    2: \"Female\",}\n",
        "ipums[\"sex_new\"] = ipums[\"SEX\"].map(sex_recode)\n",
        "\n",
        "ipums[\"sex_new\"].unique()\n",
        "\n"
      ],
      "metadata": {
        "colab": {
          "base_uri": "https://localhost:8080/"
        },
        "id": "knYA1tULcP5k",
        "outputId": "05797d4a-65fe-47f2-8a41-3d802ab7cf55"
      },
      "execution_count": null,
      "outputs": [
        {
          "output_type": "execute_result",
          "data": {
            "text/plain": [
              "array(['Male', 'Female'], dtype=object)"
            ]
          },
          "metadata": {},
          "execution_count": 6
        }
      ]
    },
    {
      "cell_type": "code",
      "source": [
        "#Age\n",
        "# Age is currently written as an integer; we want to re-examine as a categorical variable\n",
        "\n",
        "# Split sample into 3 categories by age\n",
        "group = ['young', 'middle', 'senior']\n",
        "limit = [0, 18, 65, float('inf')]\n",
        "ipums['age_new'] = pd.cut(ipums['AGE'], bins=limit, labels=group, right=False)\n",
        "ipums['age_new'].value_counts(sort=False)"
      ],
      "metadata": {
        "colab": {
          "base_uri": "https://localhost:8080/",
          "height": 210
        },
        "id": "1Rl-JjI6de2N",
        "outputId": "4a8cea21-b675-41e3-e71d-671baa9b5956"
      },
      "execution_count": null,
      "outputs": [
        {
          "output_type": "execute_result",
          "data": {
            "text/plain": [
              "age_new\n",
              "young      504250\n",
              "middle    1570074\n",
              "senior     566730\n",
              "Name: count, dtype: int64"
            ],
            "text/html": [
              "<div>\n",
              "<style scoped>\n",
              "    .dataframe tbody tr th:only-of-type {\n",
              "        vertical-align: middle;\n",
              "    }\n",
              "\n",
              "    .dataframe tbody tr th {\n",
              "        vertical-align: top;\n",
              "    }\n",
              "\n",
              "    .dataframe thead th {\n",
              "        text-align: right;\n",
              "    }\n",
              "</style>\n",
              "<table border=\"1\" class=\"dataframe\">\n",
              "  <thead>\n",
              "    <tr style=\"text-align: right;\">\n",
              "      <th></th>\n",
              "      <th>count</th>\n",
              "    </tr>\n",
              "    <tr>\n",
              "      <th>age_new</th>\n",
              "      <th></th>\n",
              "    </tr>\n",
              "  </thead>\n",
              "  <tbody>\n",
              "    <tr>\n",
              "      <th>young</th>\n",
              "      <td>504250</td>\n",
              "    </tr>\n",
              "    <tr>\n",
              "      <th>middle</th>\n",
              "      <td>1570074</td>\n",
              "    </tr>\n",
              "    <tr>\n",
              "      <th>senior</th>\n",
              "      <td>566730</td>\n",
              "    </tr>\n",
              "  </tbody>\n",
              "</table>\n",
              "</div><br><label><b>dtype:</b> int64</label>"
            ]
          },
          "metadata": {},
          "execution_count": 7
        }
      ]
    },
    {
      "cell_type": "code",
      "source": [
        "# Marst\n",
        "# MARST currently has too many categories; we want to consolidate it to just what we are interested in\n",
        "\n",
        "#1\tMarried, spouse present\n",
        "#2\tMarried, spouse absent\n",
        "#3\tSeparated\n",
        "#4\tDivorced\n",
        "#5\tWidowed\n",
        "#6\tNever married/single\n",
        "#9\tBlank, missing\n",
        "\n",
        "#1 if married, 2 if marriage over, 3 if widowed, and 0 if single\n",
        "\n",
        "marst_recode = {\n",
        "    1: \"Married\",\n",
        "    2: \"Married\",\n",
        "    3: \"Marriage Over\",\n",
        "    4: \"Marriage Over\",  # Consolidated label\n",
        "    5: \"Widowed\",\n",
        "    6: \"Never Married\",\n",
        "    9: \"Missing\"\n",
        "}\n",
        "\n",
        "ipums[\"marst_new\"] = ipums[\"MARST\"].map(marst_recode)\n",
        "\n",
        "# Check the unique values in the new column\n",
        "ipums[\"marst_new\"].unique()\n"
      ],
      "metadata": {
        "colab": {
          "base_uri": "https://localhost:8080/"
        },
        "id": "hU--1AWHeVu0",
        "outputId": "0eec0c47-9873-42ef-9947-aaab086d6a56"
      },
      "execution_count": null,
      "outputs": [
        {
          "output_type": "execute_result",
          "data": {
            "text/plain": [
              "array(['Married', 'Never Married', 'Marriage Over', 'Widowed'],\n",
              "      dtype=object)"
            ]
          },
          "metadata": {},
          "execution_count": 8
        }
      ]
    },
    {
      "cell_type": "code",
      "source": [
        "# EDUC--> Perform the same consolidation of categories\n",
        "# 00\tN/A or no schooling\tX\tX\tX\tX\tX\tX\tX\tX\tX\tX\tX\tX\tX\n",
        "# 01\tNursery school to grade 4\tX\tX\tX\tX\tX\tX\tX\tX\tX\tX\tX\tX\tX\n",
        "# 02\tGrade 5, 6, 7, or 8\tX\tX\tX\tX\tX\tX\tX\tX\tX\tX\tX\tX\tX\n",
        "# 03\tGrade 9\tX\tX\tX\tX\tX\tX\tX\tX\tX\tX\tX\tX\tX\n",
        "# 04\tGrade 10\tX\tX\tX\tX\tX\tX\tX\tX\tX\tX\tX\tX\tX\n",
        "# 05\tGrade 11\tX\tX\tX\tX\tX\tX\tX\tX\tX\tX\tX\tX\tX\n",
        "# 06\tGrade 12\tX\tX\tX\tX\tX\tX\tX\tX\tX\tX\tX\tX\tX\n",
        "# 07\t1 year of college\tX\tX\tX\tX\tX\tX\tX\tX\tX\tX\tX\tX\tX\n",
        "# 08\t2 years of college\tX\tX\tX\tX\tX\tX\tX\tX\tX\tX\tX\tX\tX\n",
        "# 09\t3 years of college\t·\t·\t·\t·\t·\t·\t·\tX\tX\tX\tX\tX\tX\n",
        "# 10\t4 years of college\tX\tX\tX\tX\tX\tX\tX\tX\tX\tX\tX\tX\tX\n",
        "# 11\t5+ years of college\tX\tX\tX\tX\tX\tX\tX\tX\tX\tX\tX\tX\tX\n",
        "# 99\tMissing\n",
        "\n",
        "education_recode = {\n",
        "    0: \"No Schooling\",\n",
        "    1: \"Elementary School\",\n",
        "    2: \"Elementary School\",\n",
        "    3: \"High School\",\n",
        "    4: \"High School\",\n",
        "    5: \"High School\",\n",
        "    6: \"High School\",\n",
        "    7: \"Some College\",\n",
        "    8: \"Some College\",\n",
        "    9: \"Some College\",\n",
        "    10: \"College Graduate\",\n",
        "    11: \"Postgraduate\",\n",
        "    99: \"Missing\"\n",
        "}\n",
        "\n",
        "ipums[\"educ_new\"] = ipums[\"EDUC\"].map(education_recode)\n",
        "\n",
        "# Check the unique values in the new column\n",
        "ipums[\"educ_new\"].unique()"
      ],
      "metadata": {
        "colab": {
          "base_uri": "https://localhost:8080/"
        },
        "id": "uJjjyRN-h22I",
        "outputId": "1730511a-d3ae-4482-e457-fc2391651bb5"
      },
      "execution_count": null,
      "outputs": [
        {
          "output_type": "execute_result",
          "data": {
            "text/plain": [
              "array(['High School', 'Postgraduate', 'Some College', 'No Schooling',\n",
              "       'Elementary School', 'College Graduate'], dtype=object)"
            ]
          },
          "metadata": {},
          "execution_count": 9
        }
      ]
    },
    {
      "cell_type": "markdown",
      "source": [
        "Summary Statistics:\n",
        "- We need to clarify strongly that finding summary statistics like mean and sd are not meaningful here\n",
        "- Instead, we have found the proportions of each of these\n",
        "- Then maybe send some kind of email clarifying that"
      ],
      "metadata": {
        "id": "8tD3w97-kys0"
      }
    },
    {
      "cell_type": "code",
      "source": [
        "# Disclaimer:\n",
        "# In the variables selected, most data is categorical, so calculating a mean or standard deviation\n",
        "# is not meaningful for these fields. Instead, we provide proportions and other summary statistics\n",
        "# to show frequencies and probabilities, particularly for categories like levels of education\n",
        "# and marital status. This approach allows us to observe the relationship between demographics\n",
        "# and our two primary variables.\n",
        "\n",
        "columns = ['educ_new', 'marst_new', 'AGE', 'sex_new', 'race_new']\n",
        "ipums_subset = ipums[columns]\n",
        "\n",
        "summary_stats = ipums_subset['AGE'].agg(['mean', 'std', 'min', 'max', 'count'])\n",
        "\n",
        "# creating proportions for new vars\n",
        "educ_new_proportions = (ipums_subset['educ_new'].value_counts(normalize=True) * 100).round(2)\n",
        "marst_new_proportions = (ipums_subset['marst_new'].value_counts(normalize=True) * 100).round(2)\n",
        "sex_new_proportions = (ipums_subset['sex_new'].value_counts(normalize=True) * 100).round(2)\n",
        "race_new_proportions = (ipums_subset['race_new'].value_counts(normalize=True) * 100).round(2)\n",
        "\n",
        "# summary statistics for numerical var\n",
        "print(\"Numerical Statistics (AGE):\")\n",
        "print(summary_stats)\n",
        "\n",
        "# frequency distribution for categorical vars\n",
        "print()\n",
        "print(\"educ_new Proportions:\")\n",
        "for level, prop in educ_new_proportions.items():\n",
        "    print(f\"{level}: {prop}%\")\n",
        "\n",
        "print()\n",
        "print(\"marst_new Proportions:\")\n",
        "for status, prop in marst_new_proportions.items():\n",
        "    print(f\"{status}: {prop}%\")\n",
        "\n",
        "print()\n",
        "print(\"sex_new Proportions:\")\n",
        "for gender, prop in sex_new_proportions.items():\n",
        "    print(f\"{gender}: {prop}%\")\n",
        "\n",
        "print()\n",
        "print(\"race_new Proportions:\")\n",
        "for race, prop in race_new_proportions.items():\n",
        "    print(f\"{race}: {prop}%\")"
      ],
      "metadata": {
        "colab": {
          "base_uri": "https://localhost:8080/"
        },
        "id": "BQCvYDHdre_N",
        "outputId": "5c9b1f97-f6fb-4174-ce67-94445bf4b60c"
      },
      "execution_count": null,
      "outputs": [
        {
          "output_type": "stream",
          "name": "stdout",
          "text": [
            "Numerical Statistics (AGE):\n",
            "mean     4.243397e+01\n",
            "std      2.382217e+01\n",
            "min      0.000000e+00\n",
            "max      9.600000e+01\n",
            "count    2.641054e+06\n",
            "Name: AGE, dtype: float64\n",
            "\n",
            "educ_new Proportions:\n",
            "High School: 36.53%\n",
            "Some College: 18.49%\n",
            "College Graduate: 15.82%\n",
            "Elementary School: 13.18%\n",
            "Postgraduate: 10.19%\n",
            "No Schooling: 5.78%\n",
            "\n",
            "marst_new Proportions:\n",
            "Married: 42.45%\n",
            "Never Married: 42.0%\n",
            "Marriage Over: 10.11%\n",
            "Widowed: 5.44%\n",
            "\n",
            "sex_new Proportions:\n",
            "Female: 50.56%\n",
            "Male: 49.44%\n",
            "\n",
            "race_new Proportions:\n",
            "White: 68.69%\n",
            "Two or more major races: 9.63%\n",
            "Black/African American: 9.3%\n",
            "Asian or Pacific Islander: 5.84%\n",
            "Other race: 5.27%\n",
            "American Indian or Alaska Native: 1.26%\n"
          ]
        }
      ]
    },
    {
      "cell_type": "code",
      "source": [
        "#Crosstab to get proportions of education levels within marital status categories\n",
        "marital_prop = pd.crosstab(ipums['educ_new'], ipums['marst_new'], normalize='index') * 100\n",
        "marital_prop\n",
        "# Plotting the proportions of education level by marital status\n",
        "plt.figure(figsize=(10, 6))\n",
        "sns.barplot(data=marital_prop.reset_index().melt(id_vars='educ_new'),\n",
        "            x='educ_new', y='value', hue='marst_new', ci=None)\n",
        "\n",
        "plt.title('Proportion of Marital Status Grouped By Education Level')\n",
        "plt.xlabel('Education Level')\n",
        "plt.ylabel('Relative Frequencies of Marital Status(%)')\n",
        "plt.legend(title='Marital Status')\n",
        "plt.xticks(rotation=45)\n",
        "plt.show()"
      ],
      "metadata": {
        "id": "mbMBesvOH6eE",
        "colab": {
          "base_uri": "https://localhost:8080/",
          "height": 673
        },
        "outputId": "91cd30c6-2fee-4fa4-9070-8a701162b6cc"
      },
      "execution_count": null,
      "outputs": [
        {
          "output_type": "stream",
          "name": "stderr",
          "text": [
            "<ipython-input-11-98ba78bead6c>:6: FutureWarning: \n",
            "\n",
            "The `ci` parameter is deprecated. Use `errorbar=None` for the same effect.\n",
            "\n",
            "  sns.barplot(data=marital_prop.reset_index().melt(id_vars='educ_new'),\n"
          ]
        },
        {
          "output_type": "display_data",
          "data": {
            "text/plain": [
              "<Figure size 1000x600 with 1 Axes>"
            ],
            "image/png": "[encoded data removed]"
          },
          "metadata": {}
        }
      ]
    },
    {
      "cell_type": "code",
      "source": [
        "marital_prop = pd.crosstab(ipums['educ_new'], ipums['marst_new'], normalize='index') * 100\n",
        "\n",
        "\n",
        "plt.figure(figsize=(8, 6))\n",
        "sns.heatmap(marital_prop, annot=True, fmt=\".1f\", cmap=\"Blues\", cbar_kws={'label': 'Percentage (%)'})\n",
        "plt.title('Proportion of Marital Status by Education Level (Heatmap)')\n",
        "plt.xlabel('Marital Status')\n",
        "plt.ylabel('Education Level')\n",
        "plt.show()"
      ],
      "metadata": {
        "colab": {
          "base_uri": "https://localhost:8080/",
          "height": 546
        },
        "id": "rrQak6NDcokl",
        "outputId": "cf88c5fe-497b-4f58-dfd5-f4a6705d72e0"
      },
      "execution_count": null,
      "outputs": [
        {
          "output_type": "display_data",
          "data": {
            "text/plain": [
              "<Figure size 800x600 with 2 Axes>"
            ],
            "image/png": "[encoded data removed]"
          },
          "metadata": {}
        }
      ]
    },
    {
      "cell_type": "code",
      "source": [
        "# Conduct three different hypothesis tests to check for differences in means or proportions (lower and upper tail tests do not count) and comment on the result (30 pts)\n",
        "\n",
        "#### Hypothesis Testing For Difference of Sample Means ####\n",
        "\n",
        "#Create two samples based on the difference you are interested in:\n",
        "# female = birth[birth['gender']=='female']['weight']\n",
        "# male = birth[birth['gender']=='male']['weight']\n",
        "\n",
        "# # Perform the required test:\n",
        "\n",
        "# test_gen = ttest_ind(female, male)\n",
        "# print('test-stat: ', round(test_gen[0], 4))\n",
        "# print('p-value: ', round(test_gen[1], 4))\n",
        "\n",
        "\n",
        "\n",
        "\n",
        "#### Hypothesis Testing For Difference of Sample Proportions ####\n",
        "\n",
        "# Test by gender\n",
        "#test_pro_gen = proportions_ztest([59, 52], [503, 497])\n",
        "#print('T-Stat: ', round(test_pro_gen[0], 4))\n",
        "#print('P-Value: ', round(test_pro_gen[1], 4))\n",
        "\n",
        "\n",
        "\n",
        "#Hypothesis Test 1: Differences in mean proportion based on higher education status\n",
        "\n",
        "#Create two samples based on the difference we are interested in\n",
        "higher_ed = ipums[ipums['educ_new'].isin(['College Graduate', 'Postgraduate'])]['marst_new']\n",
        "no_higher_education = ipums[ipums['educ_new'].isin(['High School', 'Elementary School', 'No Schooling'])]['marst_new']\n",
        "\n",
        "\n",
        "# # Perform the required test:\n",
        "higher_education_married = higher_ed[higher_ed == 'Married'].shape[0] / higher_ed.shape[0]\n",
        "no_higher_education_married = no_higher_education[no_higher_education == 'Married'].shape[0] / no_higher_education.shape[0]\n",
        "\n",
        "test_stat, p_value = proportions_ztest([higher_education_married, no_higher_education_married], [higher_ed.shape[0], no_higher_education.shape[0]])\n",
        "\n",
        "print('test-stat: ', round(test_stat, 4))\n",
        "print('p-value: ', round(p_value, 4))\n",
        "\n",
        "\n",
        "\n",
        "#Hypothesis Test 2: Differences in mean proportion of marriage based on Gender\n",
        "\n",
        "# #Create two samples based on the difference we are interested in\n",
        "male = ipums[ipums['sex_new'].isin(['Male'])]['marst_new']\n",
        "female = ipums[ipums['sex_new'].isin(['Female'])]['marst_new']\n",
        "\n",
        "# # Perform the required test:\n",
        "# Count the number of \"Married\" individuals in each group\n",
        "male_married_count = male[male == 'Married'].shape[0]\n",
        "female_married_count = female[female == 'Married'].shape[0]\n",
        "\n",
        "# Total sample sizes\n",
        "male_total = male.shape[0]\n",
        "female_total = female.shape[0]\n",
        "\n",
        "# Perform the z-test for proportions\n",
        "test_stat, p_value = proportions_ztest([male_married_count, female_married_count], [male_total, female_total])\n",
        "\n",
        "print('test-stat: ', round(test_stat, 4))\n",
        "print('p-value: ', round(p_value, 4))\n",
        "\n",
        "\n",
        "#Hypothesis Test 3: Differences in mean proportion of marriage based on race(White vs. Nonwhite Participants)\n",
        "\n",
        "# #Create two samples based on the difference we are interested in\n",
        "white = ipums[ipums['race_new'].isin(['White'])]['marst_new']\n",
        "nonwhite = ipums[~ipums['race_new'].isin(['White'])]['marst_new']\n",
        "\n",
        "# # Perform the required test:\n",
        "# Count the number of \"Married\" individuals in each group\n",
        "white_married_count = white[white == 'Married'].shape[0]\n",
        "nonwhite_married_count = nonwhite[nonwhite == 'Married'].shape[0]\n",
        "\n",
        "# Total sample sizes\n",
        "white_total = white.shape[0]\n",
        "nonwhite_total = nonwhite.shape[0]\n",
        "\n",
        "# Perform the z-test for proportions\n",
        "test_stat, p_value = proportions_ztest([white_married_count, nonwhite_married_count], [white_total, nonwhite_total])\n",
        "\n",
        "print('test-stat: ', round(test_stat, 4))\n",
        "print('p-value: ', round(p_value, 4))\n",
        "\n",
        "\n"
      ],
      "metadata": {
        "colab": {
          "base_uri": "https://localhost:8080/"
        },
        "id": "I5cIcJZ1OpJr",
        "outputId": "6b2b3214-0e30-41a9-b7fb-ec17ee0d7b3d"
      },
      "execution_count": null,
      "outputs": [
        {
          "output_type": "stream",
          "name": "stdout",
          "text": [
            "test-stat:  0.7618\n",
            "p-value:  0.4462\n",
            "test-stat:  23.5594\n",
            "p-value:  0.0\n",
            "test-stat:  200.5818\n",
            "p-value:  0.0\n"
          ]
        }
      ]
    },
    {
      "cell_type": "markdown",
      "source": [
        "Discussion and Ending Notes:\n",
        "\n",
        "\n",
        "\n",
        "**Hypothesis 1:**\n",
        "- No significant difference at the 0.05 significance level\n",
        "- Indicates no statistically significant difference in the proportion of successful marriages between higher and lower levels of education\n",
        "\n",
        "\n",
        "**Hypothesis 2:**\n",
        "- Significant difference at the 0.05 significance level\n",
        "- Indicates a statistically significant difference in the proportion of successful marriages between genders\n",
        "\n",
        "\n",
        "**Hypothesis 3:**\n",
        "- Significant difference at the 0.05 significance level\n",
        "- Indicates a statistically significant difference in the proportion of successful marriages between racial identities\n",
        "\n"
      ],
      "metadata": {
        "id": "uQ5t5EudU-bW"
      }
    }
  ]
}